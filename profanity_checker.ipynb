{
 "cells": [
  {
   "cell_type": "code",
   "execution_count": 9,
   "id": "d084ad6e",
   "metadata": {},
   "outputs": [
    {
     "name": "stdout",
     "output_type": "stream",
     "text": [
      "Collecting better_profanity\n",
      "  Downloading better_profanity-0.7.0-py3-none-any.whl (46 kB)\n",
      "\u001b[K     |████████████████████████████████| 46 kB 226 kB/s eta 0:00:011\n",
      "\u001b[?25hInstalling collected packages: better-profanity\n",
      "Successfully installed better-profanity-0.7.0\n",
      "Note: you may need to restart the kernel to use updated packages.\n"
     ]
    }
   ],
   "source": [
    "pip install better_profanity"
   ]
  },
  {
   "cell_type": "code",
   "execution_count": 44,
   "id": "07ea854a",
   "metadata": {},
   "outputs": [
    {
     "name": "stdout",
     "output_type": "stream",
     "text": [
      "['hello world\\n', 'test second line\\n', 'What the test are you doing?\\n', 'You crazy shit\\n']\n",
      "hello world --> 0.0 % profanity\n",
      "test second line --> 0.0 % profanity\n",
      "What the test are you doing? --> 0.0 % profanity\n",
      "You crazy shit --> 26.666666666666668 % profanity\n"
     ]
    }
   ],
   "source": [
    "from better_profanity import profanity\n",
    "\n",
    "profanity.load_censor_words()\n",
    "\n",
    "# custom_words = ['test', 'try', 'right']\n",
    "# profanity.load_censor_words(custom_words)\n",
    "  \n",
    "with open('tweets.txt') as file:\n",
    "    array = file.readlines()   \n",
    "    \n",
    "print(array)\n",
    "    \n",
    "for text in array:\n",
    "    # do censoring\n",
    "    censored = profanity.censor(text)\n",
    "    #ADD custom words here to check profanity \n",
    "    \n",
    "    # view output\n",
    "    # print(censored)\n",
    "\n",
    "\n",
    "    count = 0\n",
    "    j = 0 \n",
    "    for i in censored:\n",
    "        j = j + 1\n",
    "        if i == '*':\n",
    "            count = count + 1\n",
    "\n",
    "    # print(count,j)\n",
    "\n",
    "    percentage = (count/j) * 100\n",
    "    text=text.replace(\"\\n\", \"\")\n",
    "    print(text,\"-->\",percentage,\"% profanity\")"
   ]
  }
 ],
 "metadata": {
  "kernelspec": {
   "display_name": "Python 3",
   "language": "python",
   "name": "python3"
  },
  "language_info": {
   "codemirror_mode": {
    "name": "ipython",
    "version": 3
   },
   "file_extension": ".py",
   "mimetype": "text/x-python",
   "name": "python",
   "nbconvert_exporter": "python",
   "pygments_lexer": "ipython3",
   "version": "3.9.6"
  }
 },
 "nbformat": 4,
 "nbformat_minor": 5
}
